{
 "cells": [
  {
   "cell_type": "markdown",
   "id": "f1a436cd",
   "metadata": {
    "scrolled": true
   },
   "source": [
    "import numpy as np\n",
    "a = np.array([4, 10, 12, 23, -2, -1, 0, 0, 0, -6, 3, -7])\n"
   ]
  },
  {
   "cell_type": "code",
   "execution_count": 2,
   "id": "57eaeefb",
   "metadata": {},
   "outputs": [],
   "source": [
    "import numpy as np\n"
   ]
  },
  {
   "cell_type": "code",
   "execution_count": 3,
   "id": "e755f07c",
   "metadata": {},
   "outputs": [
    {
     "data": {
      "text/plain": [
       "array([ 4, 10, 12, 23, -2, -1,  0,  0,  0, -6,  3, -7])"
      ]
     },
     "execution_count": 3,
     "metadata": {},
     "output_type": "execute_result"
    }
   ],
   "source": [
    "a = np.array([4, 10, 12, 23, -2, -1, 0, 0, 0, -6, 3, -7])\n",
    "a"
   ]
  },
  {
   "cell_type": "code",
   "execution_count": 4,
   "id": "9eb06e60",
   "metadata": {},
   "outputs": [
    {
     "name": "stdout",
     "output_type": "stream",
     "text": [
      "[-2 -1 -6 -7]\n"
     ]
    },
    {
     "data": {
      "text/plain": [
       "4"
      ]
     },
     "execution_count": 4,
     "metadata": {},
     "output_type": "execute_result"
    }
   ],
   "source": [
    "# How many negative numbers are there?\n",
    "# a[a < 0] gives the negatives\n",
    "print(a[a < 0])\n",
    "len(a[a < 0])\n"
   ]
  },
  {
   "cell_type": "code",
   "execution_count": 5,
   "id": "dbbb3d4d",
   "metadata": {},
   "outputs": [
    {
     "data": {
      "text/plain": [
       "5"
      ]
     },
     "execution_count": 5,
     "metadata": {},
     "output_type": "execute_result"
    }
   ],
   "source": [
    "# How many positive numbers are there?\n",
    "\n",
    "a>0\n",
    "a[a>0].size"
   ]
  },
  {
   "cell_type": "code",
   "execution_count": 6,
   "id": "95ff6a8a",
   "metadata": {},
   "outputs": [
    {
     "data": {
      "text/plain": [
       "5"
      ]
     },
     "execution_count": 6,
     "metadata": {},
     "output_type": "execute_result"
    }
   ],
   "source": [
    "# How many positive numbers are there?\n",
    "\n",
    "a[a>0].size"
   ]
  },
  {
   "cell_type": "code",
   "execution_count": 7,
   "id": "7989353a",
   "metadata": {},
   "outputs": [
    {
     "data": {
      "text/plain": [
       "3"
      ]
     },
     "execution_count": 7,
     "metadata": {},
     "output_type": "execute_result"
    }
   ],
   "source": [
    "# If you were to add 3 to each data point, how many positive numbers would there be?\n",
    "\n",
    "a[(a % 2 == 0) & (a > 0)].size\n"
   ]
  },
  {
   "cell_type": "code",
   "execution_count": 8,
   "id": "c8cdb031",
   "metadata": {},
   "outputs": [
    {
     "data": {
      "text/plain": [
       "10"
      ]
     },
     "execution_count": 8,
     "metadata": {},
     "output_type": "execute_result"
    }
   ],
   "source": [
    "# The output does not reassign the value associated with the variable name add_three\n",
    "\n",
    "add_three = a+3\n",
    "add_three[add_three > 0].size\n"
   ]
  },
  {
   "cell_type": "code",
   "execution_count": 9,
   "id": "159fe25a",
   "metadata": {},
   "outputs": [
    {
     "name": "stdout",
     "output_type": "stream",
     "text": [
      "Mean: 74.0\n",
      "Standard Deviation: 144.0243035046516\n"
     ]
    }
   ],
   "source": [
    "# If you squared each number, what would the new mean and standard deviation be?\n",
    "\n",
    "squared = a ** 2\n",
    "print(f\"Mean: {squared.mean()}\")\n",
    "print(f\"Standard Deviation: {squared.std()}\")"
   ]
  },
  {
   "cell_type": "code",
   "execution_count": 10,
   "id": "592e6bd9",
   "metadata": {},
   "outputs": [
    {
     "data": {
      "text/plain": [
       "0.0"
      ]
     },
     "execution_count": 10,
     "metadata": {},
     "output_type": "execute_result"
    }
   ],
   "source": [
    "# A common statistical operation on a dataset is centering. This means to adjust the data such that the mean of the data is 0. This is done by subtracting the mean from each data point. Center the data set. See this link for more on centering.\n",
    "\n",
    "centered = a - a.mean()\n",
    "centered\n",
    "centered.mean()\n"
   ]
  },
  {
   "cell_type": "code",
   "execution_count": 11,
   "id": "c94f01f4",
   "metadata": {},
   "outputs": [
    {
     "data": {
      "text/plain": [
       "array([ 0.12403473,  0.86824314,  1.11631261,  2.48069469, -0.62017367,\n",
       "       -0.49613894, -0.3721042 , -0.3721042 , -0.3721042 , -1.11631261,\n",
       "        0.        , -1.24034735])"
      ]
     },
     "execution_count": 11,
     "metadata": {},
     "output_type": "execute_result"
    }
   ],
   "source": [
    "# Calculate the z-score for each data point.\n",
    "\n",
    "zscores = (a - a.mean()) / a.std()\n",
    "zscores"
   ]
  },
  {
   "cell_type": "code",
   "execution_count": 10,
   "id": "6e0a91b5",
   "metadata": {},
   "outputs": [
    {
     "data": {
      "text/plain": [
       "55"
      ]
     },
     "execution_count": 10,
     "metadata": {},
     "output_type": "execute_result"
    }
   ],
   "source": [
    "# Copy the setup and exercise directions from More Numpy Practice into your numpy_exercises.py and add your solutions.\n",
    "## Setup 1\n",
    "a = [1, 2, 3, 4, 5, 6, 7, 8, 9, 10]\n",
    "\n",
    "sum_of_a = sum(a)\n",
    "sum_of_a"
   ]
  },
  {
   "cell_type": "code",
   "execution_count": 5,
   "id": "77d730cf",
   "metadata": {},
   "outputs": [
    {
     "data": {
      "text/plain": [
       "1"
      ]
     },
     "execution_count": 5,
     "metadata": {},
     "output_type": "execute_result"
    }
   ],
   "source": [
    "# Make a variable named min_of_a to hold the minimum of all the numbers in the above list\n",
    "\n",
    "min_of_a = min(a)\n",
    "min_of_a"
   ]
  },
  {
   "cell_type": "code",
   "execution_count": 6,
   "id": "884b9d9a",
   "metadata": {},
   "outputs": [
    {
     "data": {
      "text/plain": [
       "10"
      ]
     },
     "execution_count": 6,
     "metadata": {},
     "output_type": "execute_result"
    }
   ],
   "source": [
    "# Make a variable named max_of_a to hold the max number of all the numbers in the above list\n",
    "max_of_a = max(a)\n",
    "max_of_a"
   ]
  },
  {
   "cell_type": "code",
   "execution_count": 7,
   "id": "ed6af2c3",
   "metadata": {},
   "outputs": [
    {
     "data": {
      "text/plain": [
       "5.5"
      ]
     },
     "execution_count": 7,
     "metadata": {},
     "output_type": "execute_result"
    }
   ],
   "source": [
    "# Make a variable named mean_of_a to hold the average of all the numbers in the above list\n",
    "mean_of_a = sum(a) / len(a)\n",
    "mean_of_a"
   ]
  },
  {
   "cell_type": "code",
   "execution_count": 8,
   "id": "1a9f15d5",
   "metadata": {},
   "outputs": [
    {
     "data": {
      "text/plain": [
       "3628800"
      ]
     },
     "execution_count": 8,
     "metadata": {},
     "output_type": "execute_result"
    }
   ],
   "source": [
    "# Make a variable named product_of_a to hold the product of multiplying all the numbers in the above list together\n",
    "product_of_a = 1\n",
    "for n in a:\n",
    "    product_of_a = product_of_a * n\n",
    "\n",
    "product_of_a"
   ]
  },
  {
   "cell_type": "code",
   "execution_count": 9,
   "id": "3b016ee6",
   "metadata": {},
   "outputs": [
    {
     "data": {
      "text/plain": [
       "[16, 100, 144, 529, 4, 1, 0, 0, 0, 36, 9, 49]"
      ]
     },
     "execution_count": 9,
     "metadata": {},
     "output_type": "execute_result"
    }
   ],
   "source": [
    "# Exercise 6 - Make a variable named squares_of_a. It should hold each number in a squared like [1, 4, 9, 16, 25...]\n",
    "squares_of_a = [n**2 for n in a]\n",
    "squares_of_a"
   ]
  },
  {
   "cell_type": "code",
   "execution_count": 11,
   "id": "2cae8beb",
   "metadata": {},
   "outputs": [
    {
     "data": {
      "text/plain": [
       "[1, 3, 5, 7, 9]"
      ]
     },
     "execution_count": 11,
     "metadata": {},
     "output_type": "execute_result"
    }
   ],
   "source": [
    "# Exercise 7 - Make a variable named odds_in_a. It should hold only the odd numbers\n",
    "odds_in_a = [n for n in a if n % 2 != 0]\n",
    "odds_in_a\n"
   ]
  },
  {
   "cell_type": "code",
   "execution_count": 12,
   "id": "f9ae0b98",
   "metadata": {},
   "outputs": [
    {
     "data": {
      "text/plain": [
       "[2, 4, 6, 8, 10]"
      ]
     },
     "execution_count": 12,
     "metadata": {},
     "output_type": "execute_result"
    }
   ],
   "source": [
    "# Exercise 8 - Make a variable named evens_in_a. It should hold only the evens.\n",
    "evens_in_a = [n for n in a if n % 2 == 0]\n",
    "evens_in_a\n"
   ]
  },
  {
   "cell_type": "code",
   "execution_count": 13,
   "id": "7fabad2a",
   "metadata": {},
   "outputs": [
    {
     "data": {
      "text/plain": [
       "[3, 4, 5, 6, 7, 8]"
      ]
     },
     "execution_count": 13,
     "metadata": {},
     "output_type": "execute_result"
    }
   ],
   "source": [
    "# Setup 2: Consider what it would take to find the sum, min, max, average, sum, product, and list of squares for this list of two lists.\n",
    "b = [[3, 4, 5],\n",
    "    [6, 7, 8]]\n",
    "\n",
    "\n",
    "flattened_list = []\n",
    "for numbers in b:\n",
    "    for n in numbers:\n",
    "        flattened_list.append(n)\n",
    "flattened_list"
   ]
  },
  {
   "cell_type": "code",
   "execution_count": 14,
   "id": "cfb318df",
   "metadata": {},
   "outputs": [
    {
     "data": {
      "text/plain": [
       "{'sum': 33, 'min': 3, 'max': 8, 'avg': 5.5, 'squares': [9, 16, 25, 36, 49, 64]}"
      ]
     },
     "execution_count": 14,
     "metadata": {},
     "output_type": "execute_result"
    }
   ],
   "source": [
    "output = {\n",
    "    \"sum\": sum(flattened_list),\n",
    "    \"min\": min(flattened_list),\n",
    "    \"max\": max(flattened_list),\n",
    "    \"avg\": sum(flattened_list) / len(flattened_list),\n",
    "    \"squares\": [n**2 for n in flattened_list]\n",
    "}\n",
    "output"
   ]
  },
  {
   "cell_type": "markdown",
   "id": "16dc22a7",
   "metadata": {},
   "source": [
    "Numpy Key Takeaways (transfer to Pandas seamslessly)\n",
    "Vectorized operations with comparison operators ==, >, >=, etc..\n",
    "Vectorized operations for mathematical operators like *, +, /, etc...\n",
    "We use arrays of booleans (usually produced by comparison operators) to filter our arrays of data\n",
    " "
   ]
  },
  {
   "cell_type": "code",
   "execution_count": null,
   "id": "970c6bb1",
   "metadata": {},
   "outputs": [],
   "source": []
  },
  {
   "cell_type": "code",
   "execution_count": null,
   "id": "c815fc25",
   "metadata": {},
   "outputs": [],
   "source": []
  }
 ],
 "metadata": {
  "kernelspec": {
   "display_name": "Python 3 (ipykernel)",
   "language": "python",
   "name": "python3"
  },
  "language_info": {
   "codemirror_mode": {
    "name": "ipython",
    "version": 3
   },
   "file_extension": ".py",
   "mimetype": "text/x-python",
   "name": "python",
   "nbconvert_exporter": "python",
   "pygments_lexer": "ipython3",
   "version": "3.9.7"
  }
 },
 "nbformat": 4,
 "nbformat_minor": 5
}
