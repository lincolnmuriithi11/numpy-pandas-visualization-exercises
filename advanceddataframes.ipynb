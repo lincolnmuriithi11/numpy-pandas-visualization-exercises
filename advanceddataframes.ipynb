{
 "cells": [
  {
   "cell_type": "code",
   "execution_count": null,
   "id": "8330559d",
   "metadata": {},
   "outputs": [],
   "source": [
    "#indexing and subseting \n",
    "# choose only two columns \n",
    "# df[['name', 'classeoom']]\n"
   ]
  },
  {
   "cell_type": "code",
   "execution_count": null,
   "id": "f54011f1",
   "metadata": {},
   "outputs": [],
   "source": [
    "# df.loc[row_indexer, column_indexer] ..... slicing syntax = [1:3]from 2nd to 3rd\n",
    "#df[:,\"str\":\"str\"]    and also bools for colon"
   ]
  },
  {
   "cell_type": "code",
   "execution_count": null,
   "id": "bb834c87",
   "metadata": {},
   "outputs": [],
   "source": [
    "# df.iloc[:3, 1:3] #from rows to collumns"
   ]
  },
  {
   "cell_type": "code",
   "execution_count": 4,
   "id": "32873449",
   "metadata": {},
   "outputs": [],
   "source": [
    "# aggregating \n",
    "# .agg\n",
    "# finding a row and pulling an info\n",
    "# df.math.min()\n",
    "# df.loc[row_indexer, column_indexer]\n",
    "# df[['english', 'reading', 'math']].agg(['mean', 'min', 'max'])\n",
    "#groupby has to be specified df[['english', 'reading', 'math']].agg(['mean', 'min', 'max'])\n"
   ]
  },
  {
   "cell_type": "code",
   "execution_count": 6,
   "id": "d2db3d31",
   "metadata": {},
   "outputs": [],
   "source": [
    "# df.groupby('classroom').math.agg(['min', 'mean', 'max']) give me info grouped by classroom\n",
    "# np is considered like an if and then"
   ]
  },
  {
   "cell_type": "code",
   "execution_count": null,
   "id": "e7d5d609",
   "metadata": {},
   "outputs": [],
   "source": [
    "# df.assign adding a new cloumn"
   ]
  },
  {
   "cell_type": "code",
   "execution_count": null,
   "id": "7885901e",
   "metadata": {},
   "outputs": [],
   "source": [
    "# use .T to transpose"
   ]
  },
  {
   "cell_type": "code",
   "execution_count": null,
   "id": "312084e2",
   "metadata": {},
   "outputs": [],
   "source": []
  },
  {
   "cell_type": "code",
   "execution_count": null,
   "id": "94853009",
   "metadata": {},
   "outputs": [],
   "source": []
  }
 ],
 "metadata": {
  "kernelspec": {
   "display_name": "Python 3 (ipykernel)",
   "language": "python",
   "name": "python3"
  },
  "language_info": {
   "codemirror_mode": {
    "name": "ipython",
    "version": 3
   },
   "file_extension": ".py",
   "mimetype": "text/x-python",
   "name": "python",
   "nbconvert_exporter": "python",
   "pygments_lexer": "ipython3",
   "version": "3.9.7"
  }
 },
 "nbformat": 4,
 "nbformat_minor": 5
}
